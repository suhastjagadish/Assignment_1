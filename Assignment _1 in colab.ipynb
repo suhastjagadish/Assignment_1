{
  "cells": [
    {
      "cell_type": "markdown",
      "metadata": {
        "id": "nDpIcvm017Vi"
      },
      "source": [
        "#2.Take input A and B and print their sum, mul, div, square of the nos."
      ]
    },
    {
      "cell_type": "code",
      "execution_count": 4,
      "metadata": {
        "colab": {
          "base_uri": "https://localhost:8080/"
        },
        "id": "b4cFTx_uTB0-",
        "outputId": "0d897fde-de75-47c6-9137-ce1debd37cc1",
        "vscode": {
          "languageId": "python"
        }
      },
      "outputs": [
        {
          "name": "stdout",
          "output_type": "stream",
          "text": [
            "Enter the value of num_1: 11\n",
            "Enter the value of num_2: 1\n"
          ]
        }
      ],
      "source": [
        "num_1=int(input(\"Enter the value of num_1: \"))\n",
        "num_2=int(input(\"Enter the value of num_2: \"))"
      ]
    },
    {
      "cell_type": "code",
      "execution_count": 5,
      "metadata": {
        "colab": {
          "base_uri": "https://localhost:8080/"
        },
        "id": "7ER9iJGvTFto",
        "outputId": "80b0b534-d560-4b3d-f65a-7cc6ea1b67c4",
        "vscode": {
          "languageId": "python"
        }
      },
      "outputs": [
        {
          "name": "stdout",
          "output_type": "stream",
          "text": [
            "The sum of 11 and 1 is 12\n"
          ]
        }
      ],
      "source": [
        "print(f\"The sum of {num_1} and {num_2} is {num_1+num_2}\")"
      ]
    },
    {
      "cell_type": "code",
      "execution_count": 7,
      "metadata": {
        "colab": {
          "base_uri": "https://localhost:8080/"
        },
        "id": "SB0X3h8eTUh0",
        "outputId": "89cecae2-7bfb-443d-af2f-36df2c8c1d72",
        "vscode": {
          "languageId": "python"
        }
      },
      "outputs": [
        {
          "name": "stdout",
          "output_type": "stream",
          "text": [
            "Enter the value of num_1: 11\n",
            "Enter the value of num_2: 11\n",
            "The multication of 11 and 11 is 121\n"
          ]
        }
      ],
      "source": [
        "num_1=int(input(\"Enter the value of num_1: \"))\n",
        "num_2=int(input(\"Enter the value of num_2: \"))\n",
        "print(f\"The multication of {num_1} and {num_2} is {num_1*num_2}\")"
      ]
    },
    {
      "cell_type": "code",
      "execution_count": 9,
      "metadata": {
        "colab": {
          "base_uri": "https://localhost:8080/"
        },
        "id": "_crBF3W2W8m2",
        "outputId": "7cae3d9e-0b52-4d85-8e2f-4ebce2dab90e",
        "vscode": {
          "languageId": "python"
        }
      },
      "outputs": [
        {
          "name": "stdout",
          "output_type": "stream",
          "text": [
            "Enter the value of num_1: 22\n",
            "Enter the value of num_2: 2\n",
            "The division of 22 and 2 is 11.0\n"
          ]
        }
      ],
      "source": [
        "num_1=int(input(\"Enter the value of num_1: \"))\n",
        "num_2=int(input(\"Enter the value of num_2: \"))\n",
        "print(f\"The division of {num_1} and {num_2} is {num_1/num_2}\")"
      ]
    },
    {
      "cell_type": "code",
      "execution_count": 18,
      "metadata": {
        "colab": {
          "base_uri": "https://localhost:8080/"
        },
        "id": "hhGr9G3gXYN1",
        "outputId": "48d11e3c-b627-4c2a-b82e-b4e72c234944",
        "vscode": {
          "languageId": "python"
        }
      },
      "outputs": [
        {
          "name": "stdout",
          "output_type": "stream",
          "text": [
            "Enter the value of num_1: 25\n",
            "The square of 25 is 625\n"
          ]
        }
      ],
      "source": [
        "num_1=int(input(\"Enter the value of num_1: \"))\n",
        "print(f\"The square of {num_1} is {num_1**2}\")"
      ]
    },
    {
      "cell_type": "markdown",
      "metadata": {
        "id": "8ZVXSkEz2Fqf"
      },
      "source": [
        "#4.Create email ids with the user inputs. in the following format - lastname.firstname@gmail.com"
      ]
    },
    {
      "cell_type": "code",
      "execution_count": 23,
      "metadata": {
        "colab": {
          "base_uri": "https://localhost:8080/"
        },
        "id": "S7a3dk9AYO4q",
        "outputId": "ca11f85d-bf5a-413c-ba30-03bee6afa176",
        "vscode": {
          "languageId": "python"
        }
      },
      "outputs": [
        {
          "name": "stdout",
          "output_type": "stream",
          "text": [
            "Enter your first_name: Suhas\n",
            "Enter your middle_name: thalakunte\n",
            "Enter your last_name: jagadish\n",
            "jagadish.Suhas@gmail.com\n"
          ]
        }
      ],
      "source": [
        "first_name=input(\"Enter your first_name: \")\n",
        "middle_name=input(\"Enter your middle_name: \")\n",
        "last_name=input(\"Enter your last_name: \")\n",
        "print(f\"{last_name}.{first_name}@gmail.com\")\n"
      ]
    },
    {
      "cell_type": "markdown",
      "metadata": {
        "id": "509RU9rv2PbN"
      },
      "source": [
        "#5.Try to print the following lines -\n",
        "Hi I'm Sunny\n",
        "My address is 22\\3\n",
        "I earn 20$ daily."
      ]
    },
    {
      "cell_type": "code",
      "execution_count": 34,
      "metadata": {
        "colab": {
          "base_uri": "https://localhost:8080/"
        },
        "id": "s9UgwlL5a1JB",
        "outputId": "93b378b1-6d6a-4667-d767-e97020b30b87",
        "vscode": {
          "languageId": "python"
        }
      },
      "outputs": [
        {
          "name": "stdout",
          "output_type": "stream",
          "text": [
            "Name:Suhas\n",
            "Place:Karnataka\n",
            "Salary$200\n",
            "Hi I'm Suhas\"\n",
            "I live at Karnataka\n",
            "I earn 200$ daily\n",
            "\n"
          ]
        }
      ],
      "source": [
        "Name=input(\"Name:\")\n",
        "Place=input(\"Place:\")\n",
        "Salary=input(\"Salary$\")\n",
        "\n",
        "\n",
        "print(f\"\"\"Hi I'm {Name}\"\n",
        "I live at {Place}\n",
        "I earn {Salary}$ daily\n",
        "\"\"\")"
      ]
    },
    {
      "cell_type": "markdown",
      "metadata": {
        "id": "L8ekCIFz2XTS"
      },
      "source": [
        "#6.Take user input (name, address, date of birth etc) to fill a form for your college and print their email IDs"
      ]
    },
    {
      "cell_type": "code",
      "execution_count": 35,
      "metadata": {
        "colab": {
          "base_uri": "https://localhost:8080/"
        },
        "id": "o3F14omTxUJR",
        "outputId": "ca101bbc-2799-4c19-cf15-9bf1f91e0b85",
        "vscode": {
          "languageId": "python"
        }
      },
      "outputs": [
        {
          "name": "stdout",
          "output_type": "stream",
          "text": [
            "Enter your first_name: Suhas\n",
            "Enter your address: Karnataka\n",
            "Enter your DOB: 25/02/1996\n",
            "Suhas.@gmail.com\n"
          ]
        }
      ],
      "source": [
        "name=input(\"Enter your first_name: \")\n",
        "address=input(\"Enter your address: \")\n",
        "DOB=input(\"Enter your DOB: \")\n",
        "print(f\"{name}.@gmail.com\")"
      ]
    },
    {
      "cell_type": "markdown",
      "metadata": {
        "id": "TvAD2iTc2gS4"
      },
      "source": [
        "#7.Convert the following -\n",
        "\"22.4\" into integer\n",
        "\"22\" into complex no."
      ]
    },
    {
      "cell_type": "markdown",
      "metadata": {
        "id": "UZ1eO-1h2gQM"
      },
      "source": []
    },
    {
      "cell_type": "code",
      "execution_count": 47,
      "metadata": {
        "colab": {
          "base_uri": "https://localhost:8080/"
        },
        "id": "C0VC1uEAzjcq",
        "outputId": "945e4273-5ca8-40b2-aa7e-e64f8f8d9441",
        "vscode": {
          "languageId": "python"
        }
      },
      "outputs": [
        {
          "name": "stdout",
          "output_type": "stream",
          "text": [
            "22\n",
            "22\n",
            "(22+0j)\n"
          ]
        }
      ],
      "source": [
        "num_1= 22.4\n",
        "num_2=22\n",
        "print(int(num_1))\n",
        "print(int(num_1))\n",
        "print(complex(num_2))\n"
      ]
    },
    {
      "cell_type": "code",
      "execution_count": 46,
      "metadata": {
        "colab": {
          "base_uri": "https://localhost:8080/"
        },
        "id": "BN0hyUmf0M2L",
        "outputId": "bff51631-7184-48c1-9aa3-d4c123902b10",
        "vscode": {
          "languageId": "python"
        }
      },
      "outputs": [
        {
          "name": "stdout",
          "output_type": "stream",
          "text": [
            "22\n",
            "(22+0j)\n"
          ]
        }
      ],
      "source": [
        "num_1= 22.4\n",
        "num_2=22\n",
        "print(int(num_1))\n",
        "print(complex(num_2))"
      ]
    },
    {
      "cell_type": "markdown",
      "metadata": {
        "id": "1tMPGx2F15LU"
      },
      "source": []
    },
    {
      "cell_type": "code",
      "execution_count": null,
      "metadata": {
        "id": "W_qpqHiL0Q6c",
        "vscode": {
          "languageId": "python"
        }
      },
      "outputs": [],
      "source": []
    }
  ],
  "metadata": {
    "colab": {
      "collapsed_sections": [],
      "name": "Welcome To Colaboratory",
      "provenance": [],
      "toc_visible": true
    },
    "kernelspec": {
      "display_name": "Python 3",
      "name": "python3"
    }
  },
  "nbformat": 4,
  "nbformat_minor": 0
}
