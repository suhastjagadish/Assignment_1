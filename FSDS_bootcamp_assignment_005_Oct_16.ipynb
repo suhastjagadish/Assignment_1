{
 "cells": [
  {
   "cell_type": "markdown",
   "metadata": {
    "id": "dkGbTD94s6CD"
   },
   "source": [
    "# ASSIGNMENTS \n",
    "## Send it before 0000 hrs IST or 12 AM Friday\n",
    "\n",
    "## NOTE: Evaluation will be done before next class.\n",
    "\n",
    "## HOW TO SUBMIT: -\n",
    "Download this notebook, Solve it and upload in the google form given in the mail."
   ]
  },
  {
   "cell_type": "markdown",
   "metadata": {
    "id": "n3FuI-mutNl6"
   },
   "source": [
    "# List, Tuple and Sets"
   ]
  },
  {
   "cell_type": "markdown",
   "metadata": {
    "id": "hZcGNSR2y9zW"
   },
   "source": [
    "#### 1. On amazon website we have the following available items - \n",
    "\n",
    "```python\n",
    "amazon_website = [(\"watch\", 5000), (\"phone\", 10000), (\"laptop\", 50000), (\"shirt\", 1000)]\n",
    "```\n",
    "Take the user input N no. of times and find out the total cost to be paid?\n",
    "\n",
    "OR\n",
    "\n",
    "You can ask the user quntity or the count of item?\n",
    "\n",
    "if the item is not present in the amazon website then print that item as out of stock and do add it total\n",
    "\n",
    "\n",
    "HINT: while, for loop.. indexing"
   ]
  },
  {
   "cell_type": "code",
   "execution_count": 7,
   "metadata": {},
   "outputs": [
    {
     "name": "stdout",
     "output_type": "stream",
     "text": [
      "Enter the name of item to be purchased:   phone\n",
      "The cost of the slected item is 10000\n",
      "Enter the quantity of the item  to be purchased: 8\n",
      "Total amount to be paid is 80000\n"
     ]
    }
   ],
   "source": [
    "amazon_website = [(\"watch\", 5000), (\"phone\", 10000), (\"laptop\", 50000), (\"shirt\", 1000)]\n",
    "my_cart=input(\"Enter the name of item to be purchased:   \")\n",
    "my_cart\n",
    "for i in range(len(amazon_website)):\n",
    "    if amazon_website[i][0]==my_cart:\n",
    "        print(f\"The cost of the slected item is {amazon_website[i][1]}\")\n",
    "        b=int(input(\"Enter the quantity of the item  to be purchased: \"))\n",
    "        q=b*amazon_website[i][1]\n",
    "        print(f\"Total amount to be paid is {q}\")\n",
    "        break\n",
    "else:\n",
    "        print(\"out of stock\")"
   ]
  },
  {
   "cell_type": "markdown",
   "metadata": {},
   "source": [
    "2. What will be the output of the following code snippet"
   ]
  },
  {
   "cell_type": "code",
   "execution_count": 12,
   "metadata": {},
   "outputs": [
    {
     "name": "stdout",
     "output_type": "stream",
     "text": [
      "2 3 4 5 6 6 "
     ]
    }
   ],
   "source": [
    "arr = [1, 2, 3, 4, 5, 6]\n",
    "for i in range(1, 6):\n",
    "    arr[i - 1] = arr[i]\n",
    "for i in range(0, 6): \n",
    "    print(arr[i], end = \" \")"
   ]
  },
  {
   "cell_type": "markdown",
   "metadata": {
    "id": "nL_DZJFS0ZZF"
   },
   "source": [
    "#### 3. Write a Python program to find the repeated items of a tuple."
   ]
  },
  {
   "cell_type": "code",
   "execution_count": 4,
   "metadata": {},
   "outputs": [
    {
     "name": "stdout",
     "output_type": "stream",
     "text": [
      "1 -----> 3\n",
      "2 -----> 2\n",
      "3 -----> 2\n",
      "4 -----> 2\n",
      "23 -----> 1\n",
      "5 -----> 3\n",
      "67 -----> 1\n",
      "7 -----> 1\n"
     ]
    }
   ],
   "source": [
    "#Answer:\n",
    "t=(1,2,3,4,1,23,4,5,67,5,3,5,7,2,1)\n",
    "i=0\n",
    "for e in t:\n",
    "    if t.index(e)==i:\n",
    "        print(e,\"----->\",t.count(e))\n",
    "    i+=1"
   ]
  },
  {
   "cell_type": "markdown",
   "metadata": {
    "id": "ne8WpLZZ1GSm"
   },
   "source": [
    "### 4. Replace last value of tuples in a list with 500. Try using list comprehension\n",
    "\n",
    "Example -: \n",
    "```\n",
    "Input -:\n",
    "\n",
    "[(10, 20, 40), (40, 50, 60), (70, 80, 90)]\n",
    "\n",
    "Output -:\n",
    "[(10, 20, 500), (40, 50, 500), (70, 80, 500)]\n",
    "\n",
    "\n",
    "```\n"
   ]
  },
  {
   "cell_type": "code",
   "execution_count": 5,
   "metadata": {},
   "outputs": [
    {
     "name": "stdout",
     "output_type": "stream",
     "text": [
      "[[(10, 20, 500)], [(40, 50, 500)], [(70, 80, 500)]]\n"
     ]
    }
   ],
   "source": [
    "#Answer:\n",
    "l=[(10, 20, 40), (40, 50, 60), (70, 80, 90)]\n",
    "a=[]\n",
    "for num in l:\n",
    "    a.append([num[0:2] + (500,)])\n",
    "print(a)"
   ]
  }
 ],
 "metadata": {
  "celltoolbar": "Raw Cell Format",
  "colab": {
   "collapsed_sections": [],
   "provenance": []
  },
  "kernelspec": {
   "display_name": "Python 3 (ipykernel)",
   "language": "python",
   "name": "python3"
  },
  "language_info": {
   "codemirror_mode": {
    "name": "ipython",
    "version": 3
   },
   "file_extension": ".py",
   "mimetype": "text/x-python",
   "name": "python",
   "nbconvert_exporter": "python",
   "pygments_lexer": "ipython3",
   "version": "3.9.12"
  }
 },
 "nbformat": 4,
 "nbformat_minor": 1
}
